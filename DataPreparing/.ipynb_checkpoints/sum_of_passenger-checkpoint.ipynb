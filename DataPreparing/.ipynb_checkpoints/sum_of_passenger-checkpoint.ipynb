{
 "cells": [
  {
   "cell_type": "code",
   "execution_count": 2,
   "id": "4c1c8db8-2050-4b9b-ab09-941d8554bc32",
   "metadata": {},
   "outputs": [
    {
     "name": "stdout",
     "output_type": "stream",
     "text": [
      "CSV files 'daily_passenger_counts.csv' and 'hourly_passenger_counts.csv' have been generated.\n"
     ]
    }
   ],
   "source": [
    "import pandas as pd\n",
    "\n",
    "df = pd.read_csv('../Data/output/september2024cleaned_transport_data.csv')\n",
    "\n",
    "\n",
    "df['transition_date'] = pd.to_datetime(df['transition_date'])\n",
    "\n",
    "\n",
    "daily_counts = df.groupby(['station_poi_desc_cd', 'line_name', 'transition_date'])['number_of_passenger'].sum().reset_index()\n",
    "\n",
    "daily_counts.to_csv('../Data/output/september2024daily_passenger_counts.csv', index=False)\n",
    "\n",
    "hourly_counts = df.groupby(['station_poi_desc_cd', 'line_name', 'transition_date', 'transition_hour'])['number_of_passenger'].sum().reset_index()\n",
    "\n",
    "hourly_counts.to_csv('../Data/output/september2024hourly_passenger_counts.csv', index=False)\n",
    "\n",
    "print(\"CSV files 'daily_passenger_counts.csv' and 'hourly_passenger_counts.csv' have been generated.\")"
   ]
  },
  {
   "cell_type": "code",
   "execution_count": null,
   "id": "f87af150-76a7-4673-b82a-1f32763af484",
   "metadata": {},
   "outputs": [],
   "source": []
  }
 ],
 "metadata": {
  "kernelspec": {
   "display_name": "Python 3 (ipykernel)",
   "language": "python",
   "name": "python3"
  },
  "language_info": {
   "codemirror_mode": {
    "name": "ipython",
    "version": 3
   },
   "file_extension": ".py",
   "mimetype": "text/x-python",
   "name": "python",
   "nbconvert_exporter": "python",
   "pygments_lexer": "ipython3",
   "version": "3.13.3"
  }
 },
 "nbformat": 4,
 "nbformat_minor": 5
}
