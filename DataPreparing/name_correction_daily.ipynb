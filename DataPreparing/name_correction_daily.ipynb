{
 "cells": [
  {
   "cell_type": "code",
   "execution_count": 1,
   "id": "b857c1c6-1e1f-4a48-8086-d694843e4dbf",
   "metadata": {},
   "outputs": [
    {
     "name": "stdout",
     "output_type": "stream",
     "text": [
      "Processing complete. Consolidated daily data saved to 'output_daily.csv'.\n"
     ]
    }
   ],
   "source": [
    "import pandas as pd\n",
    "\n",
    "df = pd.read_csv('/Users/ahsenbeyzaozkul/SPRING2025/YZV202E/AnotherProject/Notebooks/Data/output/september2024daily_passenger_counts.csv')\n",
    "\n",
    "# Define the mapping for station name consolidation\n",
    "station_mapping = {\n",
    "    'BAKIRKOY': 'Bakırköy',\n",
    "    'Bakırköy': 'Bakırköy',\n",
    "    'BAKIRKOY IDO':'Bakırköy',\n",
    "    'M9 HALKALI GUNEY': 'Halkalı',\n",
    "    'M9 HALKALI': 'Halkalı',\n",
    "    'SANAYI MAH.': 'Sanayi Mahallesi',\n",
    "    'Sanayi Mahallesi': 'Sanayi Mahallesi'\n",
    "}\n",
    "\n",
    "# Apply the mapping to standardize station names\n",
    "df['station_poi_desc_cd'] = df['station_poi_desc_cd'].map(station_mapping).fillna(df['station_poi_desc_cd'])\n",
    "\n",
    "# Group by standardized station name, line_name, and transition_date, summing the passenger numbers\n",
    "result = df.groupby(['station_poi_desc_cd', 'line_name', 'transition_date'])['number_of_passenger'].sum().reset_index()\n",
    "\n",
    "# Save the result to a new CSV file (replace 'output_daily.csv' with your desired output file path)\n",
    "result.to_csv('/Users/ahsenbeyzaozkul/SPRING2025/YZV202E/AnotherProject/Notebooks/Data/output/final/finalseptemberdailydata.csv', index=False)\n",
    "\n",
    "print(\"Processing complete. Consolidated daily data saved to 'output_daily.csv'.\")"
   ]
  }
 ],
 "metadata": {
  "kernelspec": {
   "display_name": "Python 3 (ipykernel)",
   "language": "python",
   "name": "python3"
  },
  "language_info": {
   "codemirror_mode": {
    "name": "ipython",
    "version": 3
   },
   "file_extension": ".py",
   "mimetype": "text/x-python",
   "name": "python",
   "nbconvert_exporter": "python",
   "pygments_lexer": "ipython3",
   "version": "3.13.3"
  }
 },
 "nbformat": 4,
 "nbformat_minor": 5
}
