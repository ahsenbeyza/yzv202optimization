{
 "cells": [
  {
   "cell_type": "code",
   "execution_count": 1,
   "id": "0eda4435-39eb-4c77-a13b-45332515fe50",
   "metadata": {},
   "outputs": [
    {
     "name": "stdout",
     "output_type": "stream",
     "text": [
      "Processing complete. Consolidated data saved to 'output.csv'.\n"
     ]
    }
   ],
   "source": [
    "import pandas as pd\n",
    "\n",
    "df = pd.read_csv('../Data/output/september2024hourly_passenger_counts.csv')\n",
    "\n",
    "station_mapping = {\n",
    "    'BAKIRKOY': 'Bakırköy',\n",
    "    'Bakırköy': 'Bakırköy',\n",
    "    'BAKIRKOY IDO':'Bakırköy',\n",
    "    'M9 HALKALI GUNEY': 'Halkalı',\n",
    "    'M9 HALKALI': 'Halkalı',\n",
    "    'SANAYI MAH.': 'Sanayi Mahallesi',\n",
    "    'Sanayi Mahallesi': 'Sanayi Mahallesi'\n",
    "}\n",
    "\n",
    "df['station_poi_desc_cd'] = df['station_poi_desc_cd'].map(station_mapping).fillna(df['station_poi_desc_cd'])\n",
    "\n",
    "result = df.groupby(['station_poi_desc_cd', 'line_name', 'transition_date', 'transition_hour'])['number_of_passenger'].sum().reset_index()\n",
    "\n",
    "result.to_csv('../Data/output/final/finalseptemberhourlydata.csv', index=False)\n",
    "\n",
    "print(\"Processing complete. Consolidated data saved to 'output.csv'.\")"
   ]
  }
 ],
 "metadata": {
  "kernelspec": {
   "display_name": "base",
   "language": "python",
   "name": "python3"
  },
  "language_info": {
   "codemirror_mode": {
    "name": "ipython",
    "version": 3
   },
   "file_extension": ".py",
   "mimetype": "text/x-python",
   "name": "python",
   "nbconvert_exporter": "python",
   "pygments_lexer": "ipython3",
   "version": "3.11.7"
  }
 },
 "nbformat": 4,
 "nbformat_minor": 5
}
