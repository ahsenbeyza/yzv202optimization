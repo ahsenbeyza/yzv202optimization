{
 "cells": [
  {
   "cell_type": "code",
   "execution_count": 4,
   "id": "c04bba1e-53cf-45dc-ba83-3b0578422cbd",
   "metadata": {},
   "outputs": [],
   "source": [
    "import csv\n",
    "\n",
    "lines = {\n",
    "    'M1': [\n",
    "        (0, 2), (1, 2), (2, 2), (3, 2), (4, 2), (5, 2), (6, 6), (7, 6),\n",
    "        (8, 7), (9, 7), (10, 7), (11, 7), (12, 7), (13, 7), (14, 7), (15, 7),\n",
    "        (16, 7), (17, 7), (18, 7), (19, 7), (20, 6), (21, 6), (22, 6), (23, 6)\n",
    "    ],\n",
    "    'M2': [\n",
    "        (0, 3), (1, 2), (2, 2), (3, 2), (4, 2), (5, 2), (6, 6), (7, 6),\n",
    "        (8, 6), (9, 6), (10, 6), (11, 6), (12, 7), (13, 9), (14, 9), (15, 9),\n",
    "        (16, 9), (17, 9), (18, 9), (19, 9), (20, 8), (21, 6), (22, 6), (23, 5)\n",
    "    ],\n",
    "    'M7': [\n",
    "        (0, 2), (1, 2), (2, 2), (3, 2), (4, 2), (5, 2), (6, 6), (7, 6),\n",
    "        (8, 5), (9, 8), (10, 8), (11, 8), (12, 8), (13, 8), (14, 8), (15, 8),\n",
    "        (16, 8), (17, 8), (18, 9), (19, 9), (20, 6), (21, 7), (22, 6), (23, 5)\n",
    "    ]\n",
    "}\n",
    "\n"
   ]
  },
  {
   "cell_type": "code",
   "execution_count": 5,
   "id": "6d8d7721-096d-40eb-84be-2ab9e98625f7",
   "metadata": {},
   "outputs": [],
   "source": [
    "for line in ['M3', 'M4', 'M5', 'M6', 'M8', 'M9', 'M11']:\n",
    "    lines[line] = lines['M7']\n",
    "\n",
    "directions = {\n",
    "    'M1': ['Yenikapı to Kirazlı', 'Kirazlı to Yenikapı'],\n",
    "    'M2': ['Hacıosman to Yenikapı', 'Yenikapı to Hacıosman'],\n",
    "    'M3': ['Bakırköy Sahil to Kayaşehir Merkez', 'Kayaşehir Merkez to Bakırköy Sahil'],\n",
    "    'M4': ['Tavşantepe to Kadıköy', 'Kadıköy to Tavşantepe'],\n",
    "    'M5': ['Üsküdar to Samandıra Merkez', 'Samandıra Merkez to Üsküdar'],\n",
    "    'M6': ['Boğaziçi Üniversitesi – Hisarüstü to Levent', 'Levent to Boğaziçi Üniversitesi – Hisarüstü'],\n",
    "    'M7': ['Mahmutbey to Yıldız', 'Yıldız to Mahmutbey'],\n",
    "    'M8': ['Parseller to Bostancı', 'Bostancı to Parseller'],\n",
    "    'M9': ['Ataköy to Olimpiyat', 'Olimpiyat to Ataköy'],\n",
    "    'M11': ['Gayrettepe to İstanbul Havalimanı', 'İstanbul Havalimanı to Gayrettepe']\n",
    "}\n",
    "\n",
    "# Define peak hours\n",
    "peak_hours = {7, 8, 9, 16, 17, 18}\n",
    "\n"
   ]
  },
  {
   "cell_type": "code",
   "execution_count": 6,
   "id": "da43dff6-5193-4389-be09-3e45c07a906b",
   "metadata": {},
   "outputs": [
    {
     "name": "stdout",
     "output_type": "stream",
     "text": [
      "CSV file 'metro_schedule.csv' has been generated successfully.\n"
     ]
    }
   ],
   "source": [
    "data = []\n",
    "for line, schedule in lines.items():\n",
    "    for hour, num_trips in schedule:\n",
    "        for direction in directions[line]:\n",
    "            peak_indicator = 'Yes' if hour in peak_hours else 'No'\n",
    "            data.append({\n",
    "                'Line': line,\n",
    "                'transition_hour': hour,\n",
    "                'Number_of_Trips': num_trips,\n",
    "                'Direction': direction,\n",
    "                'Day_Type': 'Weekday',\n",
    "                'Peak_Hour_Indicator': peak_indicator\n",
    "            })\n",
    "\n",
    "with open('../Data/output/final/metro_schedule.csv', 'w', newline='') as csvfile:\n",
    "    fieldnames = ['Line', 'transition_hour', 'Number_of_Trips', 'Direction', 'Day_Type', 'Peak_Hour_Indicator']\n",
    "    writer = csv.DictWriter(csvfile, fieldnames=fieldnames)\n",
    "    writer.writeheader()\n",
    "    for row in data:\n",
    "        writer.writerow(row)\n",
    "\n",
    "print(\"CSV file 'metro_schedule.csv' has been generated successfully.\")"
   ]
  }
 ],
 "metadata": {
  "kernelspec": {
   "display_name": "base",
   "language": "python",
   "name": "python3"
  },
  "language_info": {
   "codemirror_mode": {
    "name": "ipython",
    "version": 3
   },
   "file_extension": ".py",
   "mimetype": "text/x-python",
   "name": "python",
   "nbconvert_exporter": "python",
   "pygments_lexer": "ipython3",
   "version": "3.11.7"
  }
 },
 "nbformat": 4,
 "nbformat_minor": 5
}
